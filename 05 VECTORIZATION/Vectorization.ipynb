{
 "cells": [
  {
   "cell_type": "markdown",
   "metadata": {},
   "source": [
    "## Vectorization Performance"
   ]
  },
  {
   "cell_type": "markdown",
   "metadata": {},
   "source": [
    "Xem ví dụ bên dưới, ta có thể thấy khi tính toán vector và ma trận với vectorization sẽ nhanh hơn hẳn khi sử dụng for loop thông thường\n",
    "\n",
    "Tính toán trên vectorization sử dụng GPU và loại bỏ các for loop nên tốc độ được cải thiện\n",
    "\n",
    "Phù hợp để tính toán trên lượng dữ liệu lớn trong các bài toán ML và DL\n",
    "\n",
    "Nguyên tắc đầu tiên trong các bài toán thao tác với dữ liệu lớn vẫn là hạn chế for loop"
   ]
  },
  {
   "cell_type": "code",
   "execution_count": 1,
   "metadata": {},
   "outputs": [],
   "source": [
    "import numpy as np\n",
    "import time"
   ]
  },
  {
   "cell_type": "code",
   "execution_count": 2,
   "metadata": {},
   "outputs": [
    {
     "name": "stdout",
     "output_type": "stream",
     "text": [
      "res = 2508.2400234484835, time = 6.996870040893555\n",
      "res = 2508.240023448486, time = 10.991096496582031\n"
     ]
    }
   ],
   "source": [
    "# sử dụng vectorization để compute tích vô hướng\n",
    "vec_a = np.random.rand(10000)\n",
    "vec_b = np.random.rand(10000)\n",
    "\n",
    "start = time.time()\n",
    "res = vec_a.dot(vec_b)\n",
    "end = time.time()\n",
    "\n",
    "print(f'res = {res}, time = {str(1000*(end - start))}')\n",
    "\n",
    "# sử dụng mảng nguyên thủy để compute tích vô hướng\n",
    "start = time.time()\n",
    "res = 0\n",
    "for i in range(len(vec_a)):\n",
    "    res += vec_a[i]*vec_b[i]\n",
    "end = time.time()\n",
    "\n",
    "print(f'res = {res}, time = {str(1000*(end - start))}')"
   ]
  }
 ],
 "metadata": {
  "kernelspec": {
   "display_name": "ML_env",
   "language": "python",
   "name": "ml_env"
  },
  "language_info": {
   "codemirror_mode": {
    "name": "ipython",
    "version": 3
   },
   "file_extension": ".py",
   "mimetype": "text/x-python",
   "name": "python",
   "nbconvert_exporter": "python",
   "pygments_lexer": "ipython3",
   "version": "3.8.5"
  }
 },
 "nbformat": 4,
 "nbformat_minor": 4
}
