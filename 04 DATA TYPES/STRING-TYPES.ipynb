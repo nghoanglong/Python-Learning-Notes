{
 "cells": [
  {
   "cell_type": "markdown",
   "metadata": {},
   "source": [
    "# Kiểu dữ liệu String\n",
    "\n",
    "**Link đầy đủ:** <https://docs.python.org/3/tutorial/introduction.html#strings>\n",
    "___\n",
    "\n",
    "## String define\n",
    "**Cheat 1:** Một string có thể được đặt trong cặp dấu nháy đơn **'str'** hoặc cặp dấu nháy kép **\"str\"**. Nhưng mình khuyên mn nên xài dấu nháy kép, bởi vì có những bất tiện như sau:\n",
    "\n",
    "Khi sử dụng cặp dấu nháy đơn, chương trình sẽ bị syntax error khi rơi vào trường hợp có một dấu nháy đơn khác bên trong như vầy nè:"
   ]
  },
  {
   "cell_type": "code",
   "execution_count": 1,
   "metadata": {
    "scrolled": true
   },
   "outputs": [
    {
     "ename": "SyntaxError",
     "evalue": "invalid syntax (<ipython-input-1-278a82a540e0>, line 1)",
     "output_type": "error",
     "traceback": [
      "\u001b[1;36m  File \u001b[1;32m\"<ipython-input-1-278a82a540e0>\"\u001b[1;36m, line \u001b[1;32m1\u001b[0m\n\u001b[1;33m    text = 'My name's Hoang Long'\u001b[0m\n\u001b[1;37m                    ^\u001b[0m\n\u001b[1;31mSyntaxError\u001b[0m\u001b[1;31m:\u001b[0m invalid syntax\n"
     ]
    }
   ],
   "source": [
    "text = 'My name's Hoang Long'\n",
    "print(text)"
   ]
  },
  {
   "cell_type": "markdown",
   "metadata": {},
   "source": [
    "Còn nếu như sử dụng dấu nháy kép thì sẽ không bị như vậy nữa:"
   ]
  },
  {
   "cell_type": "code",
   "execution_count": 2,
   "metadata": {
    "scrolled": true
   },
   "outputs": [
    {
     "name": "stdout",
     "output_type": "stream",
     "text": [
      "My name's Hoang Long\n"
     ]
    }
   ],
   "source": [
    "text = \"My name's Hoang Long\"\n",
    "print(text)"
   ]
  },
  {
   "cell_type": "markdown",
   "metadata": {},
   "source": [
    "____\n",
    "**Cheat 2:** Không giống như C++ ta phải dùng endl để xuống dòng, ta có thể sử dụng một thứ gọi là **multiline string** trong python để một string tự ngắt dòng, ở kỹ thuật này ta sẽ define một string với 3 dấu nháy kép, cách làm như sau:"
   ]
  },
  {
   "cell_type": "code",
   "execution_count": 3,
   "metadata": {},
   "outputs": [
    {
     "name": "stdout",
     "output_type": "stream",
     "text": [
      "My name is Hoang Long. Im in the first year\n",
      "at university. I love the way python \n",
      "work and efficient the world\n"
     ]
    }
   ],
   "source": [
    "text = \"\"\"My name is Hoang Long. Im in the first year\n",
    "at university. I love the way python \n",
    "work and efficient the world\"\"\"\n",
    "print(text)"
   ]
  },
  {
   "cell_type": "markdown",
   "metadata": {},
   "source": [
    "**Cheat 3:** Ta có thể format lại một string theo tham số như bên dưới, mình hay làm theo cách bên dưới"
   ]
  },
  {
   "cell_type": "code",
   "execution_count": 4,
   "metadata": {},
   "outputs": [
    {
     "name": "stdout",
     "output_type": "stream",
     "text": [
      "My name is Hoang Long, and Im 20 years old\n"
     ]
    }
   ],
   "source": [
    "name = \"Hoang Long\"\n",
    "age = \"20\"\n",
    "text = f\"My name is {name}, and Im {age} years old\".format(name, age)\n",
    "print(text)"
   ]
  },
  {
   "cell_type": "markdown",
   "metadata": {},
   "source": [
    "___\n",
    "## Slices String\n",
    "\n",
    "Kỹ thuật cắt chuỗi, hay substring, một phần của chuỗi\n",
    "\n",
    "**Cheat 1:** String[a:b] với start = a, end = b - 1 tức cắt được chuỗi nằm trong khoảng [a, b)"
   ]
  },
  {
   "cell_type": "code",
   "execution_count": 5,
   "metadata": {},
   "outputs": [
    {
     "name": "stdout",
     "output_type": "stream",
     "text": [
      "y na\n"
     ]
    }
   ],
   "source": [
    "text = \"My name is Hoang Long\"\n",
    "new_text = text[1:5]\n",
    "print(new_text)"
   ]
  },
  {
   "cell_type": "markdown",
   "metadata": {},
   "source": [
    "**Cheat 2:** String[:b] với start = đầu string, end = b - 1 hoặc String[a:] với start = a, end = cuối string"
   ]
  },
  {
   "cell_type": "code",
   "execution_count": 6,
   "metadata": {},
   "outputs": [
    {
     "name": "stdout",
     "output_type": "stream",
     "text": [
      "My na\n",
      "me is Hoang Long\n"
     ]
    }
   ],
   "source": [
    "text = \"My name is Hoang Long\"\n",
    "from_begin = text[:5]\n",
    "print(from_begin)\n",
    "\n",
    "to_end = text[5:]\n",
    "print(to_end)"
   ]
  },
  {
   "cell_type": "markdown",
   "metadata": {},
   "source": [
    "**Cheat 3:** String[a:b] với a, b là số âm thì chỉ cần nhìn từ cuối chuỗi ngược về(bắt đầu từ 0), nó sẽ tương đương với khoảng (a, b]"
   ]
  },
  {
   "cell_type": "code",
   "execution_count": 7,
   "metadata": {},
   "outputs": [
    {
     "name": "stdout",
     "output_type": "stream",
     "text": [
      "g Lo\n"
     ]
    }
   ],
   "source": [
    "text = \"My name is Hoang Long\"\n",
    "print(text[-6:-2])"
   ]
  },
  {
   "cell_type": "markdown",
   "metadata": {},
   "source": [
    "**Cheat 4:** String[a:b] với b vượt ngoài chỉ số mảng, thì nó sẽ luôn lấy tới cuối, ko gây ra lỗi"
   ]
  },
  {
   "cell_type": "code",
   "execution_count": 8,
   "metadata": {},
   "outputs": [
    {
     "name": "stdout",
     "output_type": "stream",
     "text": [
      " is Hoang Long\n"
     ]
    }
   ],
   "source": [
    "text = \"My name is Hoang Long\"\n",
    "print(text[7:9999])"
   ]
  },
  {
   "cell_type": "markdown",
   "metadata": {},
   "source": [
    "___\n",
    "## String are Arrays\n",
    "String hoạt động như một Array(mảng 1D), nhưng string trong Python là kiểu dữ liệu **immutable**, không như trong C++ hay cấu trúc của một Array đó là ta có thể thay đổi phần tử tại một vị trí bất kì hoặc substring tại vị trí bất kì, khi mn thao tác với một string trong Python phải luôn nhớ nó là **immutable** tức là unchange á. Cách tốt nhất đó là create một biến mới, thay đổi original string rồi gán vào biến mới này hoặc có thể gán thẳng lên biến cũ , hãy xem code sau:\n",
    "\n",
    "**Cheat 1:** Thay đổi substring"
   ]
  },
  {
   "cell_type": "code",
   "execution_count": 9,
   "metadata": {},
   "outputs": [
    {
     "name": "stdout",
     "output_type": "stream",
     "text": [
      "String are Immutable\n"
     ]
    }
   ],
   "source": [
    "text = \"String are Immutable\"\n",
    "text.replace(\"are\", \"is\")\n",
    "print(text)"
   ]
  },
  {
   "cell_type": "markdown",
   "metadata": {},
   "source": [
    "Như các bạn đã thấy, nó không thay đổi string vì như mình đã nói á, nó là unchange. Có nhiều cách fix, nhưng mình sẽ chỉ code cách mình hay làm thoi nha:"
   ]
  },
  {
   "cell_type": "code",
   "execution_count": 10,
   "metadata": {},
   "outputs": [
    {
     "name": "stdout",
     "output_type": "stream",
     "text": [
      "String is Immutable\n"
     ]
    }
   ],
   "source": [
    "# Cách 1: Gán cho một biến mới vì nếu đọc docs, ta sẽ thấy method replace trả về một string khi đã thay đổi\n",
    "\n",
    "text = \"String are Immutable\"\n",
    "new_text = text.replace(\"are\", \"is\")\n",
    "print(new_text)"
   ]
  },
  {
   "cell_type": "code",
   "execution_count": 11,
   "metadata": {},
   "outputs": [
    {
     "name": "stdout",
     "output_type": "stream",
     "text": [
      "String is Immutable\n"
     ]
    }
   ],
   "source": [
    "# Cách 2: Gán biến text = một string mới khi đã thay đổi\n",
    "\n",
    "text = \"String are Immutable\"\n",
    "text = text.replace(\"are\", \"is\")\n",
    "print(text)"
   ]
  },
  {
   "cell_type": "markdown",
   "metadata": {},
   "source": [
    "___\n",
    "**Step 2:** Thay đổi một kí tự trong string"
   ]
  },
  {
   "cell_type": "code",
   "execution_count": 12,
   "metadata": {},
   "outputs": [
    {
     "ename": "TypeError",
     "evalue": "'str' object does not support item assignment",
     "output_type": "error",
     "traceback": [
      "\u001b[1;31m---------------------------------------------------------------------------\u001b[0m",
      "\u001b[1;31mTypeError\u001b[0m                                 Traceback (most recent call last)",
      "\u001b[1;32m<ipython-input-12-8da7d314478e>\u001b[0m in \u001b[0;36m<module>\u001b[1;34m\u001b[0m\n\u001b[0;32m      1\u001b[0m \u001b[0mtext\u001b[0m \u001b[1;33m=\u001b[0m \u001b[1;34m\"String are Immutable\"\u001b[0m\u001b[1;33m\u001b[0m\u001b[1;33m\u001b[0m\u001b[0m\n\u001b[1;32m----> 2\u001b[1;33m \u001b[0mtext\u001b[0m\u001b[1;33m[\u001b[0m\u001b[1;36m1\u001b[0m\u001b[1;33m]\u001b[0m \u001b[1;33m=\u001b[0m \u001b[1;34m\"l\"\u001b[0m\u001b[1;33m\u001b[0m\u001b[1;33m\u001b[0m\u001b[0m\n\u001b[0m\u001b[0;32m      3\u001b[0m \u001b[0mprint\u001b[0m\u001b[1;33m(\u001b[0m\u001b[0mtext\u001b[0m\u001b[1;33m)\u001b[0m\u001b[1;33m\u001b[0m\u001b[1;33m\u001b[0m\u001b[0m\n",
      "\u001b[1;31mTypeError\u001b[0m: 'str' object does not support item assignment"
     ]
    }
   ],
   "source": [
    "text = \"String are Immutable\"\n",
    "text[1] = \"l\"\n",
    "print(text)\n"
   ]
  },
  {
   "cell_type": "markdown",
   "metadata": {},
   "source": [
    "Nó quăng ra TypeError liền vì ko đc thay đổi tại một vị trí nhất định trong một string - immutable. Có nhiều cách fix như sau:"
   ]
  },
  {
   "cell_type": "code",
   "execution_count": 13,
   "metadata": {},
   "outputs": [
    {
     "name": "stdout",
     "output_type": "stream",
     "text": [
      "Slring are Immutable\n"
     ]
    }
   ],
   "source": [
    "# Cách 1: nối chuỗi, mn có thể tạo biến mới, hoặc gán thẳng lên biến cũ, cái này tùy.\n",
    "text = \"String are Immutable\"\n",
    "pos_change = 1\n",
    "new_text = text[:pos_change] + \"l\" + text[pos_change + 1:]\n",
    "print(new_text)"
   ]
  },
  {
   "cell_type": "code",
   "execution_count": 14,
   "metadata": {},
   "outputs": [
    {
     "name": "stdout",
     "output_type": "stream",
     "text": [
      "Slring are Immutable\n"
     ]
    }
   ],
   "source": [
    "# Cách 2: Sử dụng list, nếu phần list này mn chưa biết thì có thể bỏ qua cách này, khi nào học tới list rồi quay lại xem\n",
    "text = \"String are Immutable\"\n",
    "li_temp = list(text)\n",
    "pos_change = 1\n",
    "li_temp[pos_change] = \"l\"\n",
    "new_text = \"\".join(li_temp)\n",
    "print(new_text)"
   ]
  },
  {
   "cell_type": "markdown",
   "metadata": {},
   "source": [
    "___\n",
    "## Toán tử in và not in\n",
    "\n",
    "Toán tử **in** dùng để kiểm tra mối quan hệ **membership**(mình ko biết dịch từ này sang tiếng việt sao nên mn hiểu đại khái là đc). Nếu giá trị ở 2 phía của **in**(ex: a **in** b) đều là kiểu string, nó sẽ traversal từng vị trí, check trong chuỗi b có tồn tại chuỗi a hay không?  \n",
    "\n",
    "Tương tự trên một list, mỗi phần tử trong list giả sử là kiểu **interger** thì **a in list** với a bắt buộc phải là kiểu **interger** vì nó traversal qua từng phần tử kiểu **interger** trong list.\n",
    "\n",
    "Không phải là **a in b** thì a và b phải cùng kiểu string hoặc int hoặc kiểu gì đó, mà là qua mỗi lần nó traversal trên từng phần tử, kiểu dữ liệu của a phải khớp với b[index]"
   ]
  },
  {
   "cell_type": "code",
   "execution_count": 15,
   "metadata": {},
   "outputs": [
    {
     "name": "stdout",
     "output_type": "stream",
     "text": [
      "True\n"
     ]
    }
   ],
   "source": [
    "if \"Long\" in \"Hoang Long\":\n",
    "    print(\"True\")\n",
    "else:\n",
    "    print(\"False\")"
   ]
  },
  {
   "cell_type": "code",
   "execution_count": 16,
   "metadata": {},
   "outputs": [
    {
     "name": "stdout",
     "output_type": "stream",
     "text": [
      "True\n"
     ]
    }
   ],
   "source": [
    "if \"huhu\" not in \"Hoang Long\":\n",
    "    print(\"True\")\n",
    "else:\n",
    "    print(\"False\")"
   ]
  },
  {
   "cell_type": "markdown",
   "metadata": {},
   "source": [
    "___\n",
    "## Các method thường hay được sử dụng\n",
    "\n",
    "Các method này đã được build sẵn nên các bạn ko cần viết lại, tránh lộn xộn và code sai\n",
    "\n",
    "Tham khảo thêm ở đây: <https://docs.python.org/3/library/stdtypes.html#string-methods>"
   ]
  },
  {
   "cell_type": "code",
   "execution_count": 17,
   "metadata": {},
   "outputs": [
    {
     "name": "stdout",
     "output_type": "stream",
     "text": [
      "7\n"
     ]
    }
   ],
   "source": [
    "# 1. string.find(value, start, end), trả về vị trí đầu tiên của substring cần tìm, return -1 nếu ko tìm thấy, nếu start và\n",
    "# end không có thì mặc định là tìm từ đầu tới cuối string txt\n",
    "\n",
    "txt = \"Hello, welcome to my world.\"\n",
    "\n",
    "x = txt.find(\"welcome\")\n",
    "\n",
    "print(x)"
   ]
  },
  {
   "cell_type": "code",
   "execution_count": 18,
   "metadata": {},
   "outputs": [
    {
     "name": "stdout",
     "output_type": "stream",
     "text": [
      "I like apples\n"
     ]
    }
   ],
   "source": [
    "# 2. string.replace(oldvalue, newvalue, [count]) cặp [] này có nghĩa bên trong là option, có cũng được, ko cũng đc, count\n",
    "# mang ý nghĩa số lần replace, giả sử string có 2 từ one, truyền count = 1, nó sẽ chỉ replace 1 từ\n",
    "txt = \"I like bananas\"\n",
    "\n",
    "x = txt.replace(\"bananas\", \"apples\")\n",
    "\n",
    "print(x)"
   ]
  }
 ],
 "metadata": {
  "kernelspec": {
   "display_name": "Python 3.7.7",
   "language": "python",
   "name": "python3"
  },
  "language_info": {
   "codemirror_mode": {
    "name": "ipython",
    "version": 3
   },
   "file_extension": ".py",
   "mimetype": "text/x-python",
   "name": "python",
   "nbconvert_exporter": "python",
   "pygments_lexer": "ipython3",
   "version": "3.7.7"
  }
 },
 "nbformat": 4,
 "nbformat_minor": 4
}
